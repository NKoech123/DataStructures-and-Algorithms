{
 "cells": [
  {
   "cell_type": "markdown",
   "metadata": {},
   "source": [
    "OOP - inheritance, encapsulation, polymorphism,...... decorators in python,..tbd"
   ]
  },
  {
   "cell_type": "code",
   "execution_count": 19,
   "metadata": {},
   "outputs": [
    {
     "name": "stdout",
     "output_type": "stream",
     "text": [
      "[Tom:20000:32, Nick:200000:26, Ken:8000:22]\n",
      "[Ken:8000:22, Nick:200000:26, Tom:20000:32]\n"
     ]
    }
   ],
   "source": [
    "class Employee:\n",
    "    def __init__(self, name, salary, age):\n",
    "         self.name = name\n",
    "         self.salary = salary         \n",
    "         self.age = age\n",
    "\n",
    "    def __repr__(self):         \n",
    "        return self.__str__() \n",
    "\n",
    "    def __str__(self):\n",
    "        return \"{}:{}:{}\".format(self.name, self.salary, self.age)\n",
    "\n",
    "e1 = Employee(\"Tom\", 20000, 32)\n",
    "e2 = Employee(\"Ken\", 8000, 22)\n",
    "e3 = Employee(\"Nick\", 200000, 26)\n",
    "\n",
    "arr=[e1,e2,e3]\n",
    "\n",
    "\n",
    "a=sorted(arr, key=lambda x:x.age, reverse=True) #sort decreasing\n",
    "\n",
    "b=sorted(arr, key=lambda x:x.age, reverse=False) #sort increasing\n",
    "print(a)\n",
    "print(b)"
   ]
  },
  {
   "cell_type": "code",
   "execution_count": null,
   "metadata": {},
   "outputs": [],
   "source": []
  },
  {
   "cell_type": "code",
   "execution_count": null,
   "metadata": {},
   "outputs": [],
   "source": []
  }
 ],
 "metadata": {
  "interpreter": {
   "hash": "949777d72b0d2535278d3dc13498b2535136f6dfe0678499012e853ee9abcab1"
  },
  "kernelspec": {
   "display_name": "Python 3.9.5 64-bit",
   "language": "python",
   "name": "python3"
  },
  "language_info": {
   "codemirror_mode": {
    "name": "ipython",
    "version": 3
   },
   "file_extension": ".py",
   "mimetype": "text/x-python",
   "name": "python",
   "nbconvert_exporter": "python",
   "pygments_lexer": "ipython3",
   "version": "3.9.5"
  },
  "orig_nbformat": 4
 },
 "nbformat": 4,
 "nbformat_minor": 2
}
