{
 "cells": [
  {
   "cell_type": "code",
   "execution_count": 10,
   "metadata": {},
   "outputs": [
    {
     "name": "stdout",
     "output_type": "stream",
     "text": [
      "{'shirt': 42, 't-shirt': 30, 'shoes': 45, 'watches': 45, 'rings': 23, 'ties': 20, 'pants': 45}\n"
     ]
    }
   ],
   "source": [
    "hashtable1 ={'shirt':42,\n",
    "            't-shirt':30,\n",
    "            'shoes':45,\n",
    "            'watches':45,\n",
    "            'rings':23,\n",
    "            'ties':20,\n",
    "            'pants':45}\n",
    "print(hashtable1)\n"
   ]
  },
  {
   "cell_type": "code",
   "execution_count": 15,
   "metadata": {},
   "outputs": [
    {
     "name": "stdout",
     "output_type": "stream",
     "text": [
      "['shoes', 'watches', 'pants']\n"
     ]
    }
   ],
   "source": [
    "\n",
    "max_freq = max(hashtable1.values())\n",
    "list1=[]\n",
    "for prod, freq in hashtable1.items():\n",
    "    if freq == max_freq:\n",
    "        list1.append(prod)\n",
    "\n",
    "print(list1)"
   ]
  },
  {
   "cell_type": "code",
   "execution_count": 27,
   "metadata": {},
   "outputs": [
    {
     "name": "stdout",
     "output_type": "stream",
     "text": [
      "[('shoes', 45), ('watches', 45), ('pants', 45)]\n"
     ]
    }
   ],
   "source": [
    "arr=[(k,v) for k,v in sorted(hashtable1.items(), \n",
    "     key=lambda item:item[1]) \n",
    "     if v==max(hashtable1.values())]\n",
    "     \n",
    "print(arr)"
   ]
  },
  {
   "cell_type": "code",
   "execution_count": 19,
   "metadata": {},
   "outputs": [
    {
     "name": "stdout",
     "output_type": "stream",
     "text": [
      "2000\n",
      "1000\n"
     ]
    }
   ],
   "source": [
    "x=[('car',2000),('bike',1000)]\n",
    "for tpl in x:\n",
    "    x=(lambda x: x[1])(tpl)\n",
    "    print(x)\n"
   ]
  },
  {
   "cell_type": "code",
   "execution_count": 24,
   "metadata": {},
   "outputs": [
    {
     "name": "stdout",
     "output_type": "stream",
     "text": [
      "{'apple': 19, 'oranges': 4, 'banana': 3}\n",
      "['apple']\n"
     ]
    }
   ],
   "source": [
    "arr= [('apple',4),('oranges',3),('apple',3),('oranges',1),('apple',12),('banana',3)]\n",
    "hashmap={}\n",
    "for fruit,count in arr:\n",
    "    if fruit in hashmap:\n",
    "        hashmap[fruit]+= count\n",
    "    else:\n",
    "        hashmap[fruit]=count\n",
    "   \n",
    "print(hashmap)\n",
    "arr=[]\n",
    "max_val=max(hashmap.values())\n",
    "for fruit,count in hashmap.items():\n",
    "    if count==max_val:\n",
    "        arr.append(fruit)\n",
    "        \n",
    "print(arr)"
   ]
  },
  {
   "cell_type": "code",
   "execution_count": null,
   "metadata": {},
   "outputs": [],
   "source": []
  }
 ],
 "metadata": {
  "interpreter": {
   "hash": "949777d72b0d2535278d3dc13498b2535136f6dfe0678499012e853ee9abcab1"
  },
  "kernelspec": {
   "display_name": "Python 3.9.5 64-bit",
   "language": "python",
   "name": "python3"
  },
  "language_info": {
   "codemirror_mode": {
    "name": "ipython",
    "version": 3
   },
   "file_extension": ".py",
   "mimetype": "text/x-python",
   "name": "python",
   "nbconvert_exporter": "python",
   "pygments_lexer": "ipython3",
   "version": "3.9.5"
  },
  "orig_nbformat": 4
 },
 "nbformat": 4,
 "nbformat_minor": 2
}
